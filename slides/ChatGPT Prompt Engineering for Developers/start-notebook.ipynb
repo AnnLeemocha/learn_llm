{
 "cells": [
  {
   "cell_type": "markdown",
   "metadata": {},
   "source": [
    "### 使用虛擬環境"
   ]
  },
  {
   "cell_type": "markdown",
   "metadata": {},
   "source": [
    "1. 建立虛擬環境"
   ]
  },
  {
   "cell_type": "code",
   "execution_count": null,
   "metadata": {
    "vscode": {
     "languageId": "powershell"
    }
   },
   "outputs": [],
   "source": [
    "python -m venv ./venv"
   ]
  },
  {
   "cell_type": "markdown",
   "metadata": {},
   "source": [
    "2. 執行虛擬環境"
   ]
  },
  {
   "cell_type": "code",
   "execution_count": null,
   "metadata": {
    "vscode": {
     "languageId": "powershell"
    }
   },
   "outputs": [],
   "source": [
    ".\\venv\\Scripts\\activate"
   ]
  },
  {
   "cell_type": "markdown",
   "metadata": {},
   "source": [
    "  如果出現錯誤\n",
    "```\n",
    "+ .\\venv\\Scripts\\activate\n",
    "+ ~~~~~~~~~~~~~~~~~~~~~~~\n",
    "   + CategoryInfo          : SecurityError: (:) [], PSSecurityException\n",
    "   + FullyQualifiedErrorId : UnauthorizedAccess\n",
    "```\n",
    "可以先將執行政策改為允許啟動虛擬環境腳本，然後再啟動虛擬環境："
   ]
  },
  {
   "cell_type": "code",
   "execution_count": null,
   "metadata": {
    "vscode": {
     "languageId": "powershell"
    }
   },
   "outputs": [],
   "source": [
    "# （臨時更改）— 最安全建議\n",
    "Set-ExecutionPolicy -ExecutionPolicy RemoteSigned -Scope Process"
   ]
  },
  {
   "cell_type": "code",
   "execution_count": null,
   "metadata": {
    "vscode": {
     "languageId": "powershell"
    }
   },
   "outputs": [],
   "source": [
    "# （永久更改）— 如果你常使用虛擬環境\n",
    "Set-ExecutionPolicy -ExecutionPolicy RemoteSigned -Scope CurrentUser"
   ]
  },
  {
   "cell_type": "markdown",
   "metadata": {},
   "source": [
    "### 使用 Anaconda / Miniconda\n",
    "安裝後須將 kernel 改為 anaconda 的路徑"
   ]
  },
  {
   "cell_type": "markdown",
   "metadata": {},
   "source": [
    "### 測試可否使用 Jupyter Notebook 運行 python 指令"
   ]
  },
  {
   "cell_type": "code",
   "execution_count": 4,
   "metadata": {},
   "outputs": [
    {
     "name": "stdout",
     "output_type": "stream",
     "text": [
      "Hello World!\n"
     ]
    }
   ],
   "source": [
    "print(\"Hello World!\")"
   ]
  }
 ],
 "metadata": {
  "kernelspec": {
   "display_name": "venv",
   "language": "python",
   "name": "python3"
  },
  "language_info": {
   "codemirror_mode": {
    "name": "ipython",
    "version": 3
   },
   "file_extension": ".py",
   "mimetype": "text/x-python",
   "name": "python",
   "nbconvert_exporter": "python",
   "pygments_lexer": "ipython3",
   "version": "3.11.9"
  },
  "orig_nbformat": 4
 },
 "nbformat": 4,
 "nbformat_minor": 2
}

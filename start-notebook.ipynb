{
 "cells": [
  {
   "cell_type": "markdown",
   "metadata": {},
   "source": [
    "### 安裝 Python 與 Jupyter Kernel (不使用虛擬環境)"
   ]
  },
  {
   "cell_type": "markdown",
   "metadata": {},
   "source": [
    "1. 安裝 Python（如果尚未安裝）："
   ]
  },
  {
   "cell_type": "code",
   "execution_count": null,
   "metadata": {
    "vscode": {
     "languageId": "shellscript"
    }
   },
   "outputs": [],
   "source": [
    "sudo apt install python3 python3-pip"
   ]
  },
  {
   "cell_type": "markdown",
   "metadata": {},
   "source": [
    "2. 安裝 Jupyter 套件："
   ]
  },
  {
   "cell_type": "code",
   "execution_count": null,
   "metadata": {
    "vscode": {
     "languageId": "shellscript"
    }
   },
   "outputs": [],
   "source": [
    "pip install notebook jupyter ipykernel"
   ]
  },
  {
   "cell_type": "markdown",
   "metadata": {},
   "source": [
    "3. 新增 Python Kernel（若系統中有多版本 Python）："
   ]
  },
  {
   "cell_type": "code",
   "execution_count": null,
   "metadata": {
    "vscode": {
     "languageId": "shellscript"
    }
   },
   "outputs": [],
   "source": [
    "python3 -m ipykernel install --user"
   ]
  },
  {
   "cell_type": "markdown",
   "metadata": {},
   "source": [
    "### 使用 Anaconda / Miniconda / Condaforge 建立虛擬環境管理\n",
    "Conda 不僅能用來管理 Python 套件，也能管理 Python 本身的版本以及 CUDA 的版本之類的。\n",
    "* Anaconda：\n",
    "    * 安裝路徑：https://github.com/conda-forge/miniforge/releases/latest/download/\n",
    "    * 檔案格式：`Anaconda3-2024.10-1-Linux-${ARCH}.sh`\n",
    "* Miniconda\n",
    "    * 安裝路徑：https://repo.anaconda.com/miniconda/\n",
    "    * 檔案格式：`Miniconda3-latest-Linux-${ARCH}.sh`\n",
    "* Condaforge\n",
    "    * 安裝路徑：https://github.com/conda-forge/miniforge/releases/latest/download/\n",
    "    * 檔案格式：`Miniforge3-Linux-${ARCH}.sh`"
   ]
  },
  {
   "cell_type": "markdown",
   "metadata": {},
   "source": [
    "1. 安裝 Conda"
   ]
  },
  {
   "cell_type": "code",
   "execution_count": null,
   "metadata": {
    "vscode": {
     "languageId": "shellscript"
    }
   },
   "outputs": [],
   "source": [
    "# Download the Conda installation script\n",
    "wget https://github.com/conda-forge/miniforge/releases/latest/download/Miniforge3-Linux-x86_64.sh\n",
    "\n",
    "# Grant execution permissions to the installation script\n",
    "chmod +x Miniforge3-Linux-x86_64.sh\n",
    "\n",
    "# Install Conda (-b: 背景執行，-p 指定安裝路徑)\n",
    "./Miniforge3-Linux-x86_64.sh -b\n",
    "# ./Miniforge3-Linux-x86_64.sh -b -p \"/opt/miniforge3\" "
   ]
  },
  {
   "cell_type": "markdown",
   "metadata": {},
   "source": [
    "2. 啟用 Conda 並進行初始化"
   ]
  },
  {
   "cell_type": "code",
   "execution_count": null,
   "metadata": {
    "vscode": {
     "languageId": "shellscript"
    }
   },
   "outputs": [],
   "source": [
    "# Activate Conda \n",
    "source ~/miniforge3/etc/profile.d/conda.sh\n",
    "\n",
    "# Initialize Conda \n",
    "conda init\n",
    "\n",
    "# Load the .bashrc configuration.\n",
    "source ~/.bashrc \n",
    "\n",
    "# 會自動進入 conda (base) 環境，可以離開 base 環境\n",
    "conda deactivate\n",
    "\n",
    "# 可以關閉自動開啟 base 環境\n",
    "conda config --set auto_activate_base false"
   ]
  },
  {
   "cell_type": "markdown",
   "metadata": {},
   "source": [
    "3. 創建虛擬環境"
   ]
  },
  {
   "cell_type": "code",
   "execution_count": null,
   "metadata": {
    "vscode": {
     "languageId": "shellscript"
    }
   },
   "outputs": [],
   "source": [
    "# # 創建虛擬環境： (llm_env)\n",
    "# conda create -n llm_env python=3.10\n",
    "# 創建虛擬環境： (llm_env_py311)\n",
    "conda create -n llm_env_py311 python=3.11\n",
    "\n",
    "# 查看已建立的虛擬環境：\n",
    "conda env list"
   ]
  },
  {
   "cell_type": "markdown",
   "metadata": {},
   "source": [
    "4. 啟用創建好的虛擬環境"
   ]
  },
  {
   "cell_type": "code",
   "execution_count": null,
   "metadata": {
    "vscode": {
     "languageId": "shellscript"
    }
   },
   "outputs": [],
   "source": [
    "# 啟用 base\n",
    "conda activate\n",
    "\n",
    "# 啟用 llm_env_py311\n",
    "conda activate llm_env_py311"
   ]
  },
  {
   "cell_type": "markdown",
   "metadata": {},
   "source": [
    "5. VS Code 安裝 Extensions (Jupyter, Python)"
   ]
  },
  {
   "cell_type": "markdown",
   "metadata": {},
   "source": [
    "6. 安裝 Jupyter 套件："
   ]
  },
  {
   "cell_type": "code",
   "execution_count": null,
   "metadata": {},
   "outputs": [],
   "source": [
    "%%bash\n",
    "\n",
    "pip install notebook jupyter ipykernel"
   ]
  },
  {
   "cell_type": "markdown",
   "metadata": {},
   "source": [
    "7. 測試"
   ]
  },
  {
   "cell_type": "code",
   "execution_count": 1,
   "metadata": {},
   "outputs": [
    {
     "name": "stdout",
     "output_type": "stream",
     "text": [
      "Hello World!\n"
     ]
    }
   ],
   "source": [
    "print(\"Hello World!\")"
   ]
  },
  {
   "cell_type": "markdown",
   "metadata": {},
   "source": [
    "---"
   ]
  },
  {
   "cell_type": "markdown",
   "metadata": {},
   "source": [
    "### 使用虛擬環境"
   ]
  },
  {
   "cell_type": "markdown",
   "metadata": {},
   "source": [
    "1. 建立虛擬環境"
   ]
  },
  {
   "cell_type": "code",
   "execution_count": null,
   "metadata": {
    "vscode": {
     "languageId": "powershell"
    }
   },
   "outputs": [],
   "source": [
    "python -m venv ./venv"
   ]
  },
  {
   "cell_type": "markdown",
   "metadata": {},
   "source": [
    "2. 執行虛擬環境"
   ]
  },
  {
   "cell_type": "code",
   "execution_count": null,
   "metadata": {
    "vscode": {
     "languageId": "powershell"
    }
   },
   "outputs": [],
   "source": [
    ".\\venv\\Scripts\\activate"
   ]
  },
  {
   "cell_type": "markdown",
   "metadata": {},
   "source": [
    "  如果出現錯誤\n",
    "```\n",
    "+ .\\venv\\Scripts\\activate\n",
    "+ ~~~~~~~~~~~~~~~~~~~~~~~\n",
    "   + CategoryInfo          : SecurityError: (:) [], PSSecurityException\n",
    "   + FullyQualifiedErrorId : UnauthorizedAccess\n",
    "```\n",
    "可以先將執行政策改為允許啟動虛擬環境腳本，然後再啟動虛擬環境："
   ]
  },
  {
   "cell_type": "code",
   "execution_count": null,
   "metadata": {
    "vscode": {
     "languageId": "powershell"
    }
   },
   "outputs": [],
   "source": [
    "# （臨時更改）— 最安全建議\n",
    "Set-ExecutionPolicy -ExecutionPolicy RemoteSigned -Scope Process"
   ]
  },
  {
   "cell_type": "code",
   "execution_count": null,
   "metadata": {
    "vscode": {
     "languageId": "powershell"
    }
   },
   "outputs": [],
   "source": [
    "# （永久更改）— 如果你常使用虛擬環境\n",
    "Set-ExecutionPolicy -ExecutionPolicy RemoteSigned -Scope CurrentUser"
   ]
  },
  {
   "cell_type": "markdown",
   "metadata": {},
   "source": [
    "### 測試可否使用 Jupyter Notebook 運行 python 指令"
   ]
  },
  {
   "cell_type": "code",
   "execution_count": null,
   "metadata": {},
   "outputs": [
    {
     "ename": "",
     "evalue": "",
     "output_type": "error",
     "traceback": [
      "\u001b[1;31mRunning cells with 'llm_env' requires the ipykernel package.\n",
      "\u001b[1;31mRun the following command to install 'ipykernel' into the Python environment. \n",
      "\u001b[1;31mCommand: 'conda install -n llm_env ipykernel --update-deps --force-reinstall'"
     ]
    }
   ],
   "source": [
    "print(\"Hello World!\")"
   ]
  },
  {
   "cell_type": "markdown",
   "metadata": {},
   "source": [
    "### 搬遷虛擬環境\n",
    "1. 重建\n",
    "2. 匯出原本的套件\n",
    "3. 在新 venv 中重新安裝"
   ]
  },
  {
   "cell_type": "code",
   "execution_count": null,
   "metadata": {
    "vscode": {
     "languageId": "powershell"
    }
   },
   "outputs": [],
   "source": [
    "# 重建 (--prompt llm_env 為自訂 activate 後的提示字串)\n",
    "python -m venv --prompt llm_env .\\venv\n",
    "# 匯出\n",
    ".\\project\\venv\\Scripts\\pip freeze > requirements.txt\n",
    "# 重新安裝\n",
    ".\\venv\\Scripts\\pip install -r requirements.txt\n",
    "# (選擇) 刪除 requirements.txt\n",
    "del requirements.txt\n",
    "# (選擇) 刪除舊的虛擬環境\n",
    "# - /s：刪除資料夾及其所有內容\n",
    "# - /q：靜默模式，無提示確認\n",
    "rmdir /s /q .\\project\\venv\n"
   ]
  }
 ],
 "metadata": {
  "kernelspec": {
   "display_name": "Python 3 (ipykernel)",
   "language": "python",
   "name": "python3"
  },
  "language_info": {
   "codemirror_mode": {
    "name": "ipython",
    "version": 3
   },
   "file_extension": ".py",
   "mimetype": "text/x-python",
   "name": "python",
   "nbconvert_exporter": "python",
   "pygments_lexer": "ipython3",
   "version": "3.10.17"
  },
  "orig_nbformat": 4
 },
 "nbformat": 4,
 "nbformat_minor": 2
}

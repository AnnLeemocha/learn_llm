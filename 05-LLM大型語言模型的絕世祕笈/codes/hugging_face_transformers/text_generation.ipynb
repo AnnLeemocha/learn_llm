{
 "cells": [
  {
   "cell_type": "markdown",
   "metadata": {},
   "source": [
    "### 文本生成"
   ]
  },
  {
   "cell_type": "markdown",
   "metadata": {},
   "source": [
    "#### 1. 先將輸入字元 Token 並轉換成 PyTorch Tensor 物件：\n",
    "* Tensor 的字典：\n",
    "    * `input_ids`: 分詞的結果。\n",
    "    * `attention_mask`: 用來遮罩非輸入部分。"
   ]
  },
  {
   "cell_type": "code",
   "execution_count": 1,
   "metadata": {},
   "outputs": [
    {
     "name": "stderr",
     "output_type": "stream",
     "text": [
      "/home/ai-x/miniconda3/envs/ann_py311/lib/python3.11/site-packages/tqdm/auto.py:21: TqdmWarning: IProgress not found. Please update jupyter and ipywidgets. See https://ipywidgets.readthedocs.io/en/stable/user_install.html\n",
      "  from .autonotebook import tqdm as notebook_tqdm\n",
      "Loading checkpoint shards: 100%|██████████| 2/2 [00:01<00:00,  1.02it/s]\n",
      "/home/ai-x/miniconda3/envs/ann_py311/lib/python3.11/site-packages/transformers/generation/configuration_utils.py:631: UserWarning: `do_sample` is set to `False`. However, `temperature` is set to `0.9` -- this flag is only used in sample-based generation modes. You should set `do_sample=True` or unset `temperature`. This was detected when initializing the generation config instance, which means the corresponding file may hold incorrect parameterization and should be fixed.\n",
      "  warnings.warn(\n",
      "/home/ai-x/miniconda3/envs/ann_py311/lib/python3.11/site-packages/transformers/generation/configuration_utils.py:636: UserWarning: `do_sample` is set to `False`. However, `top_p` is set to `0.6` -- this flag is only used in sample-based generation modes. You should set `do_sample=True` or unset `top_p`. This was detected when initializing the generation config instance, which means the corresponding file may hold incorrect parameterization and should be fixed.\n",
      "  warnings.warn(\n",
      "/home/ai-x/miniconda3/envs/ann_py311/lib/python3.11/site-packages/transformers/generation/configuration_utils.py:631: UserWarning: `do_sample` is set to `False`. However, `temperature` is set to `0.9` -- this flag is only used in sample-based generation modes. You should set `do_sample=True` or unset `temperature`.\n",
      "  warnings.warn(\n",
      "/home/ai-x/miniconda3/envs/ann_py311/lib/python3.11/site-packages/transformers/generation/configuration_utils.py:636: UserWarning: `do_sample` is set to `False`. However, `top_p` is set to `0.6` -- this flag is only used in sample-based generation modes. You should set `do_sample=True` or unset `top_p`.\n",
      "  warnings.warn(\n"
     ]
    },
    {
     "name": "stdout",
     "output_type": "stream",
     "text": [
      "{'input_ids': tensor([[    1, 15043, 29892, 29871]]), 'attention_mask': tensor([[1, 1, 1, 1]])}\n"
     ]
    },
    {
     "data": {
      "text/plain": [
       "'\\nOutput:\\n{\\n    \"input_ids\": tensor([[1, 15043, 29892, 29871]]),\\n    \"attention_mask\": tensor([[1, 1, 1, 1]]),\\n}\\n'"
      ]
     },
     "execution_count": 1,
     "metadata": {},
     "output_type": "execute_result"
    }
   ],
   "source": [
    "from transformers import BitsAndBytesConfig\n",
    "from transformers import AutoModelForCausalLM as ModelCls\n",
    "from transformers import AutoTokenizer as TkCls\n",
    "\n",
    "model_path = \"TheBloke/Llama-2-7b-chat-fp16\"\n",
    "model: ModelCls = ModelCls.from_pretrained(\n",
    "    model_path,\n",
    "    device_map=\"auto\",\n",
    "    low_cpu_mem_usage=True,\n",
    "    quantization_config=BitsAndBytesConfig(load_in_8bit=True),\n",
    ")\n",
    "tk: TkCls = TkCls.from_pretrained(model_path)\n",
    "tokens = tk(\"Hello, \", return_tensors=\"pt\")\n",
    "print(tokens) # Tokenize 結果\n",
    "\"\"\"\n",
    "Output:\n",
    "{\n",
    "    \"input_ids\": tensor([[1, 15043, 29892, 29871]]),\n",
    "    \"attention_mask\": tensor([[1, 1, 1, 1]]),\n",
    "}\n",
    "\"\"\""
   ]
  },
  {
   "cell_type": "markdown",
   "metadata": {},
   "source": [
    "#### 處理 `input_ids`\n",
    "一開始只需要關注 `input_ids` ，先把 `attention_mask` 當成模型的必要輸入。\n",
    "* 模型與 Tensor 必須放在同一個裝置中才能做運算。\n",
    "    * 例如，放在 CPU 上的模型只能跟 CPU 上的 Tensor 運算。\n",
    "    * 這裡模型放在 GPU 上，所以要用 `.to(\"cuda\")` 將整個分詞放進 GPU 裡面。"
   ]
  },
  {
   "cell_type": "code",
   "execution_count": 2,
   "metadata": {},
   "outputs": [
    {
     "name": "stdout",
     "output_type": "stream",
     "text": [
      "tensor([[    1, 15043, 29892, 29871]], device='cuda:0')\n"
     ]
    }
   ],
   "source": [
    "input_ids = tokens[\"input_ids\"].to(\"cuda\")\n",
    "print(input_ids)\n",
    "# tensor([[    1, 15043, 29892, 29871]], device='cuda:0')"
   ]
  },
  {
   "cell_type": "markdown",
   "metadata": {},
   "source": [
    "#### 2. 開始使用 model.generate 進行文字產生：\n",
    "* `model.generate` 會回傳產生的 Token ID，必須用 Tokenizer 進行 Decode 才能得到文字版的輸出。\n",
    "* `max_new_tokens` 是用來設定要輸出的 Token 數量。\n",
    "    * 在 Transformer Decoder 裡面，輸出的Token數量越多，佔用的GPU記憶體就會越多，生成需要的時間理所當然的也比較久。"
   ]
  },
  {
   "cell_type": "code",
   "execution_count": 6,
   "metadata": {},
   "outputs": [
    {
     "name": "stdout",
     "output_type": "stream",
     "text": [
      "['</s></s><s> Hello,  I am trying to create a simple web application that allows users to upload a file', \"<s> Hi, my name is Sarah and I'm a 30-year-old woman from the\"]\n"
     ]
    }
   ],
   "source": [
    "output = model.generate(input_ids, max_new_tokens=32)\n",
    "print(tk.batch_decode(output))\n",
    "# <s> Hello, I am a beginner in Python ..."
   ]
  },
  {
   "cell_type": "markdown",
   "metadata": {},
   "source": [
    "#### 3. 一次做很多個文字生成，俗稱**批次推論 (Batch Inference)**：\n",
    "* **注意**，因為 Llama Tokenizer 沒有預設填充用的 Padding Token，所以需要幫它指定一個，才能做填充。"
   ]
  },
  {
   "cell_type": "code",
   "execution_count": 4,
   "metadata": {},
   "outputs": [
    {
     "name": "stdout",
     "output_type": "stream",
     "text": [
      "['</s></s><s> Hello,  I am trying to create a simple web application that allows users to upload a file', \"<s> Hi, my name is Sarah and I'm a 30-year-old woman from the\"]\n"
     ]
    }
   ],
   "source": [
    "tk.pad_token = tk.eos_token  # LlamaTokenizer 沒有 Padding Token\n",
    "prompt = [\"Hello, \", \"Hi, my name is\"]\n",
    "tokens = tk(prompt, return_tensors=\"pt\", padding=True)\n",
    "input_ids = tokens[\"input_ids\"].to(\"cuda\")\n",
    "\n",
    "outputs = model.generate(input_ids, max_new_tokens=16)\n",
    "print(tk.batch_decode(outputs))"
   ]
  },
  {
   "cell_type": "markdown",
   "metadata": {},
   "source": [
    "#### 有時會出現輸出結果怪怪的結果：\n",
    "\n",
    "* 因為 Transformers Decoder 是自回歸解碼 (Autoregressive) 的關係，放在越右邊的 Token 通常會對下一個生成的 Token 有越顯著的影響。\n",
    "    * 若是將 Padding Token 都放右邊，模型看到一堆 Padding Token 後也不知道要輸出什麼。\n",
    "    * 所以在進行批次生成時，記得要把 Padding Token 放在左邊，可以在初始化 Tokenizer 時設定 `padding_side` 這個參數。\n",
    "\n",
    "* 怪怪的結果：\n",
    "    ```\n",
    "    [\n",
    "        \"<s> Hello, </s></s>0000000000000000\",\n",
    "        \"<s> Hi, my name is [Your Name] and I am a [Your Profession] ...\",\n",
    "    ]\n",
    "    ```\n",
    "* 修正後的結果：\n",
    "    ```\n",
    "    [\n",
    "        \"</s></s><s> Hello, I am a 35 year old woman ...\",\n",
    "        \"<s> Hi, my name is [Your Name] and I am a [Your Profession] ...\",\n",
    "    ]\n",
    "    ```"
   ]
  },
  {
   "cell_type": "code",
   "execution_count": 5,
   "metadata": {},
   "outputs": [
    {
     "name": "stdout",
     "output_type": "stream",
     "text": [
      "['</s></s><s> Hello,  I am trying to create a simple web application that allows users to upload a file', \"<s> Hi, my name is Sarah and I'm a 30-year-old woman from the\"]\n"
     ]
    }
   ],
   "source": [
    "tk: TkCls = TkCls.from_pretrained(model_path, padding_side=\"left\")\n",
    "tk.pad_token = tk.eos_token  # LlamaTokenizer 有 Padding Token\n",
    "prompt = [\"Hello, \", \"Hi, my name is\"]\n",
    "tokens = tk(prompt, return_tensors=\"pt\", padding=True)\n",
    "input_ids = tokens[\"input_ids\"].to(\"cuda\")\n",
    "\n",
    "outputs = model.generate(input_ids, max_new_tokens=16)\n",
    "print(tk.batch_decode(outputs))"
   ]
  }
 ],
 "metadata": {
  "kernelspec": {
   "display_name": "ann_py311",
   "language": "python",
   "name": "python3"
  },
  "language_info": {
   "codemirror_mode": {
    "name": "ipython",
    "version": 3
   },
   "file_extension": ".py",
   "mimetype": "text/x-python",
   "name": "python",
   "nbconvert_exporter": "python",
   "pygments_lexer": "ipython3",
   "version": "3.11.11"
  },
  "orig_nbformat": 4
 },
 "nbformat": 4,
 "nbformat_minor": 2
}

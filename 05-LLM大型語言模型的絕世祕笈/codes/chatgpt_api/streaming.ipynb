{
 "cells": [
  {
   "cell_type": "markdown",
   "metadata": {},
   "source": [
    "## ChatGPT API - 串流用法 Streaming"
   ]
  },
  {
   "cell_type": "markdown",
   "metadata": {},
   "source": [
    "### Streaming\n",
    "加上參數 `stream=True` 即可用串流的方式接收輸出，這樣就會看到模型輸出一個字一個字的跑出來。\n",
    "* OpenAI 回傳的格式其實涵蓋的資訊蠻多的，而 `delta/content` 這個位置不一定每次都有。\n"
   ]
  },
  {
   "cell_type": "code",
   "execution_count": null,
   "metadata": {},
   "outputs": [],
   "source": [
    "import openai\n",
    "from dotenv import load_dotenv\n",
    "\n",
    "load_dotenv()  # .env\n",
    "\n",
    "client = openai.OpenAI()\n",
    "response = client.chat.completions.create(\n",
    "    model=\"gpt-3.5-turbo\",\n",
    "    messages=[\n",
    "        {\"role\": \"system\", \"content\": \"請使用繁體中文回答。\"},\n",
    "        {\"role\": \"user\", \"content\": \"你好啊！\"},\n",
    "    ],\n",
    "    stream=True,\n",
    ")\n",
    "\n",
    "for resp in response:\n",
    "    if resp.choices:\n",
    "        print(end=resp[\"choices\"][0][\"delta\"][\"content\"], flush=True)\n",
    "print()"
   ]
  }
 ],
 "metadata": {
  "kernelspec": {
   "display_name": "venv",
   "language": "python",
   "name": "python3"
  },
  "language_info": {
   "codemirror_mode": {
    "name": "ipython",
    "version": 3
   },
   "file_extension": ".py",
   "mimetype": "text/x-python",
   "name": "python",
   "nbconvert_exporter": "python",
   "pygments_lexer": "ipython3",
   "version": "3.11.9"
  },
  "orig_nbformat": 4
 },
 "nbformat": 4,
 "nbformat_minor": 2
}

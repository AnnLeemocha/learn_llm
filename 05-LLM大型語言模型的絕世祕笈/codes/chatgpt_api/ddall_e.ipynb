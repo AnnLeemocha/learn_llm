{
 "cells": [
  {
   "cell_type": "markdown",
   "metadata": {},
   "source": [
    "## ChatGPT API - DALL-E"
   ]
  },
  {
   "cell_type": "markdown",
   "metadata": {},
   "source": [
    "### DALL-E\n",
    "筆者測試生成一張 256 x 256 大小的圖片，大約需要 5 ~ 8 秒左右，速度還算蠻理想的。\n",
    "* 除了一般的圖像生成以外，還有圖片編輯 (Edits) 與變體 (Variations) 等功能，詳細用法請參考官方文件。\n",
    "* 這個 API 的計價方式是按圖收費，每張 256x 大小的圖片收取 0.016 鎂，而最大的 1024x 每張圖片則收取 0.02 鎂。"
   ]
  },
  {
   "cell_type": "code",
   "execution_count": null,
   "metadata": {},
   "outputs": [],
   "source": [
    "%%bash\n",
    "\n",
    "ffmpeg -i audio.wav audio.mp3"
   ]
  },
  {
   "cell_type": "code",
   "execution_count": null,
   "metadata": {},
   "outputs": [],
   "source": [
    "import openai\n",
    "import requests\n",
    "from dotenv import load_dotenv\n",
    "\n",
    "load_dotenv()  # .env\n",
    "\n",
    "response = openai.Image.create(\n",
    "    prompt=\"a cool cat drinking coffee\",\n",
    "    n=1,\n",
    "    size=\"256x256\",\n",
    ")\n",
    "image_url = response[\"data\"][0][\"url\"]\n",
    "\n",
    "resp = requests.get(image_url)\n",
    "with open(\"image.png\", \"wb\") as fp:\n",
    "    fp.write(resp.content)"
   ]
  }
 ],
 "metadata": {
  "kernelspec": {
   "display_name": "venv",
   "language": "python",
   "name": "python3"
  },
  "language_info": {
   "codemirror_mode": {
    "name": "ipython",
    "version": 3
   },
   "file_extension": ".py",
   "mimetype": "text/x-python",
   "name": "python",
   "nbconvert_exporter": "python",
   "pygments_lexer": "ipython3",
   "version": "3.11.9"
  },
  "orig_nbformat": 4
 },
 "nbformat": 4,
 "nbformat_minor": 2
}

{
 "cells": [
  {
   "cell_type": "markdown",
   "metadata": {},
   "source": [
    "## ChatGPT API - 基礎用法 Non-Streaming"
   ]
  },
  {
   "cell_type": "markdown",
   "metadata": {},
   "source": [
    "### Non-Streaming\n",
    "參數\n",
    "* `model`: 指定要用哪個模型\n",
    "* `messages`: 傳送給模型處理的訊息，接收一個陣列，陣列裡面每個元素代表每個回合的對話內容。\n",
    "    * `role`: 該訊息的角色，主要有 `system`, `user`, `assistant` 三種角色。\n",
    "\n",
    "|角色|說明|\n",
    "|---|---|\n",
    "|`system`|初始提示，一直保留在對話的最前面，維持整份對話的一致性|\n",
    "|`user`|使用者的輸入|\n",
    "|`assistant`|模型的輸出|\n"
   ]
  },
  {
   "cell_type": "code",
   "execution_count": null,
   "metadata": {},
   "outputs": [],
   "source": [
    "import openai\n",
    "from dotenv import load_dotenv\n",
    "\n",
    "load_dotenv()  # .env\n",
    "\n",
    "client = openai.OpenAI()\n",
    "response = client.chat.completions.create(\n",
    "    model=\"gpt-3.5-turbo\",\n",
    "    messages=[\n",
    "        {\"role\": \"system\", \"content\": \"請使用繁體中文回答。\"},\n",
    "        {\"role\": \"user\", \"content\": \"你好啊！\"},\n",
    "    ],\n",
    ")\n",
    "\n",
    "print(response[\"choices\"][0][\"message\"][\"content\"])\n",
    "# 輸出結果：你好！有什麼我可以幫助你的嗎？"
   ]
  }
 ],
 "metadata": {
  "kernelspec": {
   "display_name": "venv",
   "language": "python",
   "name": "python3"
  },
  "language_info": {
   "codemirror_mode": {
    "name": "ipython",
    "version": 3
   },
   "file_extension": ".py",
   "mimetype": "text/x-python",
   "name": "python",
   "nbconvert_exporter": "python",
   "pygments_lexer": "ipython3",
   "version": "3.11.9"
  },
  "orig_nbformat": 4
 },
 "nbformat": 4,
 "nbformat_minor": 2
}

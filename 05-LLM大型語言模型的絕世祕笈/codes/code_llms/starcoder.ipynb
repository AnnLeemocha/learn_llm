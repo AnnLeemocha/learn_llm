{
 "cells": [
  {
   "cell_type": "markdown",
   "metadata": {},
   "source": [
    "### StarCoder 2"
   ]
  },
  {
   "cell_type": "markdown",
   "metadata": {},
   "source": [
    "#### 首先讀取模型權重與分詞器，並將 Generate 包裝成函式方便後續使用："
   ]
  },
  {
   "cell_type": "code",
   "execution_count": 1,
   "metadata": {},
   "outputs": [
    {
     "name": "stderr",
     "output_type": "stream",
     "text": [
      "/home/ai-x/miniconda3/envs/ann_py311/lib/python3.11/site-packages/tqdm/auto.py:21: TqdmWarning: IProgress not found. Please update jupyter and ipywidgets. See https://ipywidgets.readthedocs.io/en/stable/user_install.html\n",
      "  from .autonotebook import tqdm as notebook_tqdm\n",
      "Fetching 3 files: 100%|██████████| 3/3 [03:56<00:00, 78.89s/it] \n",
      "Loading checkpoint shards: 100%|██████████| 3/3 [00:02<00:00,  1.08it/s]\n"
     ]
    }
   ],
   "source": [
    "import torch\n",
    "from transformers import GPT2Tokenizer as TkCls\n",
    "from transformers import Starcoder2ForCausalLM as ModelCls\n",
    "from transformers import TextStreamer\n",
    "\n",
    "model_id= \"bigcode/starcoder2-7b\"\n",
    "model: ModelCls = ModelCls.from_pretrained(\n",
    "    model_id,\n",
    "    device_map=\"auto\",\n",
    "    torch_dtype=torch.float16,\n",
    ")\n",
    "tk: TkCls = TkCls.from_pretrained(model_id)\n",
    "tk.pad_token = tk.eos_token\n",
    "ts = TextStreamer(tk)\n",
    "\n",
    "def generate(prompt, n):\n",
    "    inputs = tk(prompt, return_tensors=\"pt\").to(\"cuda\")\n",
    "    return model.generate(**inputs, max_new_tokens=n, streamer=ts)"
   ]
  },
  {
   "cell_type": "markdown",
   "metadata": {},
   "source": [
    "#### 一般的程式碼生成，只需要透過模型本身的文字接龍能力即可達成："
   ]
  },
  {
   "cell_type": "code",
   "execution_count": 8,
   "metadata": {},
   "outputs": [
    {
     "name": "stderr",
     "output_type": "stream",
     "text": [
      "Setting `pad_token_id` to `eos_token_id`:0 for open-end generation.\n"
     ]
    },
    {
     "name": "stdout",
     "output_type": "stream",
     "text": [
      "def fib(n: "
     ]
    },
    {
     "name": "stdout",
     "output_type": "stream",
     "text": [
      "int):\n",
      "    if n < 2:\n",
      "        return n\n",
      "    return fib(n - 1) + fib(n - 2)\n",
      "\n",
      "\n"
     ]
    },
    {
     "data": {
      "text/plain": [
       "tensor([[  610, 28319,    45,   115,    63,   648,   731,   303,   434,   329,\n",
       "           350,   244,    55,    63,   310,   461,   329,   303,   461, 28319,\n",
       "            45,   115,   449,   244,    54,    46,   494, 28319,    45,   115,\n",
       "           449,   244,    55,    46,   499]], device='cuda:0')"
      ]
     },
     "execution_count": 8,
     "metadata": {},
     "output_type": "execute_result"
    }
   ],
   "source": [
    "generate(\"def fib(n: int):\", 28)\n",
    "\n",
    "# # 是個非常標準的費波那契數函式\n",
    "# \"\"\"\n",
    "# def fib(n: int):\n",
    "#     if n == 0:\n",
    "#         return 0\n",
    "#     elif n == 1:\n",
    "#         return 1\n",
    "#     else:\n",
    "#         return fib\n",
    "# \"\"\""
   ]
  },
  {
   "cell_type": "markdown",
   "metadata": {},
   "source": [
    "#### [**填充程式碼 (Fill in the Middle, FIM**)](https://arxiv.org/abs/2207.14255)\n",
    "* 在文字編輯器的游標前後或多或少都有其他程式碼，寫程式時不僅要參考前面的程式碼，也要參考後面的程式碼。然而Decoder 的特性使他只能往後生成文字，而不能在中間進行生成。\n",
    "\n",
    "* 這時候 StarCoder 透過特殊的 FIM Token 來完成填充程式碼的任務。\n",
    "\n",
    "* 舉例來說：\n",
    "    ```python\n",
    "    def hello (name: str):\n",
    "        print # <=鍵盤游標在這!\n",
    "\n",
    "    def goodbye (name: str):\n",
    "        print(f\"### 系統：再會了，{name}!\")\n",
    "    ```\n",
    "    * 這裡使用 `<游標在這>` 來表示使用者的游標停在此處\n",
    "    * 並根據游標位置將程式碼切成兩半，前半段是 **Prefix** 後半段是 **Suffix**\n",
    "    * 將 Prefix 的內容放在 `<fim_prefix>` 後面\n",
    "    * 將 Suffix 的內容放在 `<fim_suffix>` 後面\n",
    "    * 最後放上 `<fim_middle>` 來發動 StarCoder 填充程式碼的能力\n",
    "    ```txt\n",
    "    <fim_prefix> [前半段的內容] <fim_suffix> [後半段的內容] <fim_middle>\n",
    "    ```\n",
    "    \n",
    "* 將這種格式的提示輸入模型，就能夠產生中間的程式碼。\n",
    "    * 模型能夠具有這樣的能力，就是因為在訓練的時候，FIM 訓練會將挖空的程式碼片段放在`<fim_middle>` 後面。如此一來，模型就可以在維持原本文字接龍能力的情況下，獲得程式碼填充的能力。\n",
    "    * StarCoder 2 在 FIM 模式下用來停止生成的 Token 是 `<file_sep>`"
   ]
  },
  {
   "cell_type": "code",
   "execution_count": 9,
   "metadata": {},
   "outputs": [
    {
     "name": "stderr",
     "output_type": "stream",
     "text": [
      "Setting `pad_token_id` to `eos_token_id`:6 for open-end generation.\n"
     ]
    },
    {
     "name": "stdout",
     "output_type": "stream",
     "text": [
      "<fim_prefix>\n",
      "\n",
      "def hello(name: str):\n",
      "    print(<fim_suffix>)\n",
      "\n",
      "def goodbye(name: str):\n",
      "    print(f\"### 系統：再會了，{name}!\")\n",
      "\n",
      "<fim_middle>f\"### 系統：你好，{name}!\"<file_sep>\n"
     ]
    }
   ],
   "source": [
    "def generate(prompt, n):\n",
    "    inputs = tk(prompt, return_tensors=\"pt\").to(\"cuda\")\n",
    "    return model.generate(\n",
    "        **inputs,\n",
    "        max_new_tokens=n,\n",
    "        streamer=ts,\n",
    "        eos_token_id=tk.encode(\"<file_sep>\")[-1],\n",
    "    )\n",
    "\n",
    "# 實際操作這種推論方法:\n",
    "\n",
    "full_code = \"\"\"\n",
    "\n",
    "def hello(name: str):\n",
    "    print(<游標在這>)\n",
    "\n",
    "def goodbye(name: str):\n",
    "    print(f\"### 系統：再會了，{name}!\")\n",
    "\n",
    "\"\"\"\n",
    "\n",
    "prefix, suffix = full_code.split(\"<游標在這>\", 1)\n",
    "full_prompt = f\"<fim_prefix>{prefix}<fim_suffix>{suffix}<fim_middle>\"\n",
    "outputs = generate(full_prompt, 16)\n",
    "\n",
    "# # 得到以下輸出:\n",
    "# \"\"\"\n",
    "# <fim_prefix>\n",
    "\n",
    "# def hello(name: str):\n",
    "#     print(<fim_suffix>)\n",
    "\n",
    "# def goodbye(name: str):\n",
    "#     print(f\"### 系統：再會了，{name}!\")\n",
    "\n",
    "# <fim_middle>f\"### 系統：你好，{name}!\"<file_sep>\n",
    "# \"\"\""
   ]
  },
  {
   "cell_type": "markdown",
   "metadata": {},
   "source": [
    "#### 最後透過一些後處理，將填充程式碼的生成結果重建回原本的程式碼:"
   ]
  },
  {
   "cell_type": "code",
   "execution_count": 11,
   "metadata": {},
   "outputs": [
    {
     "name": "stdout",
     "output_type": "stream",
     "text": [
      "\n",
      "\n",
      "def hello(name: str):\n",
      "    print(f\"### 系統：你好，{name}!\")\n",
      "\n",
      "def goodbye(name: str):\n",
      "    print(f\"### 系統：再會了，{name}!\")\n",
      "\n",
      "\n"
     ]
    }
   ],
   "source": [
    "tokens = tk.encode(full_prompt)\n",
    "output = outputs[0][len(tokens):]\n",
    "middle = tk.decode(output, skip_special_tokens=True)\n",
    "print(full_code.replace(\"<游標在這>\", middle))\n",
    "\n",
    "# # 得到最後完整的程式碼如下:\n",
    "# \"\"\"\n",
    "# def hello(name: str):\n",
    "#     print(f\"### 系統：你好，{name}!\")\n",
    "\n",
    "# def goodbye(name: str):\n",
    "#     print(f\"### 系統：再會了，{name}!\")\n",
    "# \"\"\""
   ]
  }
 ],
 "metadata": {
  "kernelspec": {
   "display_name": "ann_py311",
   "language": "python",
   "name": "python3"
  },
  "language_info": {
   "codemirror_mode": {
    "name": "ipython",
    "version": 3
   },
   "file_extension": ".py",
   "mimetype": "text/x-python",
   "name": "python",
   "nbconvert_exporter": "python",
   "pygments_lexer": "ipython3",
   "version": "3.11.11"
  },
  "orig_nbformat": 4
 },
 "nbformat": 4,
 "nbformat_minor": 2
}

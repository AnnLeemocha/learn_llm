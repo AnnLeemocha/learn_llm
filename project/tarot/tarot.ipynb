{
 "cells": [
  {
   "cell_type": "markdown",
   "metadata": {},
   "source": [
    "## 貓貓塔羅\n",
    "完整的程式碼放在筆者的 [GitHub 專案](https://github.com/penut85420/MeowMeowTarot)中，有興趣的朋友可以參考看看。\n",
    "\n",
    "筆者另外有一個 [Discord 機器人](https://github.com/penut85420/FriesMeowDiscordBot)，裡面也整合了類似的應用，可以透過 `/超級薯條塔羅` 這個指令來使用，還請各位多多支持這個小機器人！\n",
    "\n",
    "參考以上嘗試製作一個\"塔羅牌應用\"吧~"
   ]
  },
  {
   "cell_type": "markdown",
   "metadata": {},
   "source": [
    "### 初步的 Demo 程式碼"
   ]
  },
  {
   "cell_type": "code",
   "execution_count": null,
   "metadata": {},
   "outputs": [],
   "source": [
    "from openai import OpenAI\n",
    "\n",
    "problem = \"我能穿越到異世界開掛嗎\"\n",
    "name = \"正向愚者\"\n",
    "related = \"天真、單純、可能、流浪、自由、隨興、古怪、輕浮、妄想、浪費、瘋狂、無知。\"\n",
    "\n",
    "system_prompt = \"\"\"\n",
    "你現在是一個專業的塔羅牌占卜師，而且你的身份是貓咪，所以你會使用很多「喵喵」做為句末助詞以及口頭禪。\n",
    "我會輸入一個問題，以及一張塔羅牌，你必須根據這張塔羅牌所代表的涵義，針對提出的問題給出詳細的解釋。\n",
    "在解釋問題時，請盡量往正面、積極的方向做解釋，並鼓勵對方。\n",
    "在這個過程中，你不能透露你是 AI，也不能透露你是語言模型，也不要提及你的身份，也不要向我要求更多訊息。\n",
    "解釋完之後要用「喵喵解牌完畢！」做結尾。請使用繁體中文。\n",
    "\"\"\"\n",
    "user_prompt = f\"問題：{problem}\\n塔羅牌：{name}\\n相關詞：{related}\\n解牌開始：\"\n",
    "\n",
    "client = OpenAI()\n",
    "response = client.chat.completions.create(\n",
    "    model=\"gpt-3.5-turbo\",\n",
    "    messages=[\n",
    "        {\"role\": \"system\", \"content\": system_prompt},\n",
    "        {\"role\": \"user\", \"content\": user_prompt},\n",
    "    ],\n",
    "    stream=True,\n",
    ")\n",
    "\n",
    "for resp in response:\n",
    "    try:\n",
    "        if resp.choices[0]:\n",
    "            print(end=resp.choices[0].delta.content, flush=True)\n",
    "    except Exception as e:    \n",
    "        print(str(e))\n",
    "print()"
   ]
  }
 ],
 "metadata": {
  "language_info": {
   "name": "python"
  },
  "orig_nbformat": 4
 },
 "nbformat": 4,
 "nbformat_minor": 2
}

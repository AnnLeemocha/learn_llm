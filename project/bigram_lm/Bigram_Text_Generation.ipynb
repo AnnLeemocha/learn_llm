{
  "cells": [
    {
      "cell_type": "markdown",
      "metadata": {},
      "source": [
        "## 安裝模組"
      ]
    },
    {
      "cell_type": "code",
      "execution_count": null,
      "metadata": {},
      "outputs": [],
      "source": [
        "%%bash\n",
        "\n",
        "# .\\venv\\Scripts\\activate\n",
        "pip install requests\n",
        "pip install bs4\n",
        "pip install tqdm"
      ]
    },
    {
      "cell_type": "markdown",
      "metadata": {
        "id": "RXC8Dj9ooArb"
      },
      "source": [
        "## 前置設定\n",
        "\n",
        "因為這個 Demo 可能產生很長的文本，所以透過以下設定讓輸出自動換行。\n",
        "\n",
        "[Reference: StackOverflow - Line Wrapping in Collaboratory Google results](https://stackoverflow.com/a/61401455/4893895)"
      ]
    },
    {
      "cell_type": "code",
      "execution_count": 1,
      "metadata": {
        "id": "Vx3eS3D-mxdq"
      },
      "outputs": [],
      "source": [
        "# from IPython.display import HTML, display\n",
        "\n",
        "# def set_css():\n",
        "#     display(HTML(\"<style> pre { white-space: pre-wrap; } </style>\"))\n",
        "\n",
        "# get_ipython().events.register(\"pre_run_cell\", set_css)"
      ]
    },
    {
      "cell_type": "markdown",
      "metadata": {
        "id": "xJDjgmuJftcO"
      },
      "source": [
        "## 準備文本\n",
        "\n",
        "[來源：開放文學 - 三國演義](http://open-lit.com/book.php?bid=12)"
      ]
    },
    {
      "cell_type": "code",
      "execution_count": 2,
      "metadata": {
        "colab": {
          "base_uri": "https://localhost:8080/",
          "height": 34
        },
        "id": "Hq82tPcgfnyP",
        "outputId": "90055d70-f494-4eb1-88ee-3037c200b572"
      },
      "outputs": [
        {
          "name": "stderr",
          "output_type": "stream",
          "text": [
            "100%|██████████| 120/120 [00:07<00:00, 15.35it/s]\n"
          ]
        }
      ],
      "source": [
        "import requests\n",
        "from bs4 import BeautifulSoup as BS\n",
        "from tqdm import tqdm\n",
        "\n",
        "corpus = list()\n",
        "for iid in tqdm(range(67, 186 + 1)):\n",
        "    data = {\"bid\": 12, \"id\": iid}\n",
        "    res = requests.post(\"http://open-lit.com/GETbook.php\", data=data)\n",
        "    res = BS(res.text)\n",
        "    corpus.append(res.text)"
      ]
    },
    {
      "cell_type": "markdown",
      "metadata": {
        "id": "H2Q4m4ibo5Ru"
      },
      "source": [
        "## 展示文本\n",
        "\n"
      ]
    },
    {
      "cell_type": "code",
      "execution_count": 3,
      "metadata": {
        "colab": {
          "base_uri": "https://localhost:8080/",
          "height": 104
        },
        "id": "MhPURnMMoFLQ",
        "outputId": "fa8ee005-d4e8-466d-b82c-89fbf29352ea"
      },
      "outputs": [
        {
          "name": "stdout",
          "output_type": "stream",
          "text": [
            " 第一回　　　　　宴桃園豪傑三結義　斬黃巾英雄首立功\n",
            "\t\t\t　　　　滾滾長江東逝水，浪花淘盡英雄。是非成敗轉頭空。青山依舊在，幾度夕陽紅。白髮漁樵江渚上，慣看秋月春風。一壺濁酒喜相逢。古今多少事，都付笑談中。\n",
            "　　　　——調寄《臨江仙》\n",
            "\n",
            "　　話說天下大勢，分久必合，合久必分。周末七國分爭，併入於秦。及秦滅之後，楚、漢分爭，又併入於漢。漢朝自高祖斬白蛇而起義，一統天下\n"
          ]
        }
      ],
      "source": [
        "print(corpus[0][:188])"
      ]
    },
    {
      "cell_type": "markdown",
      "metadata": {
        "id": "EisR2pX5pGSe"
      },
      "source": [
        "## 建立 Bigram 模型\n",
        "\n"
      ]
    },
    {
      "cell_type": "code",
      "execution_count": 4,
      "metadata": {
        "colab": {
          "base_uri": "https://localhost:8080/",
          "height": 17
        },
        "id": "tKXrdKF-fsw_",
        "outputId": "cf821a69-9e5e-4b33-9122-4557e17cb70e"
      },
      "outputs": [],
      "source": [
        "from collections import Counter, defaultdict\n",
        "\n",
        "# \\u3000 為全形空白\n",
        "skip_symbols = [\"\\u3000\", \"\\r\", \"\\t\", \"\\n\"]\n",
        "bigram = defaultdict(Counter)\n",
        "for data in corpus:\n",
        "    # 將空白字元移除\n",
        "    for sym in skip_symbols:\n",
        "        data = data.replace(sym, \"\")\n",
        "\n",
        "    # 以 <BOS> 代表文本開頭，開始統計整份文本\n",
        "    prev_char = \"<BOS>\"\n",
        "    for ch in data:\n",
        "        bigram[prev_char][ch] += 1\n",
        "        prev_char = ch\n",
        "\n",
        "    # 以 <EOS> 代表文本結尾\n",
        "    ch = \"<EOS>\"\n",
        "    bigram[prev_char][ch] += 1"
      ]
    },
    {
      "cell_type": "markdown",
      "metadata": {
        "id": "94uEAst_pgHq"
      },
      "source": [
        "## 生成文本\n",
        "\n",
        "透過前一步驟建立的 Bigram 模型進行文本生成，可以試著多執行幾次，每次生成的結果都不一樣。\n",
        "\n",
        "這裡生成的文字看起來似乎有模有樣，但真的是這樣嗎？"
      ]
    },
    {
      "cell_type": "code",
      "execution_count": 5,
      "metadata": {
        "colab": {
          "base_uri": "https://localhost:8080/",
          "height": 208
        },
        "id": "lTB3fhx5gQQu",
        "outputId": "17ccab3a-97d8-4458-8ee6-c60672f75b48"
      },
      "outputs": [
        {
          "name": "stdout",
          "output_type": "stream",
          "text": [
            "<BOS> 第二將慶賀為首，汝可焚。及船下觀玄德問曰：「吾至半晌，操甚驚曰：「可！」修箋，忽報赤心死戰，四郡吏兵來軍從公孫堅守將軍無益巴丘儉令守漢中少不可勝耶？」玄德苦勸陛下恥。關。」操曰司馬懿頸血不絕於側。忽然。閒，不肯發。生死不住。兩川收則皆賞四子，乃人慌忙滾滾鞍下將。」當夜關興兵之時分舉妄奏天歎曰：「不住馬，都是朝功蓋安，魏延低聲大怒曰：「既愈加費亭、張曰：「我等一鼓譟吶喊聲起兵至，只有高位，化外十鎮守。』！非百官武士仁勝負如此必有失，下馬，哭。卻不當之心中而未幾何用計魏延從大雨連夜前進黎陽平、夏侯曾往襄平明自退去，孫權，事，說孔文武，山谷，拍馬謂玄德問曰：「姜維之。盛寒且說東，兵不過橋時，布來投北軍馬驟馬行至玉硯摔為主辱陛下馬，使，而走。未見玄德匹馬蹄，科稅錢糧足矣。李嚴趕，毋乃『人馬超以不過陣』衡哉？」急召其餘，以鞭鞭出路同盟。」權，身軀，合之。通拜賀喜曰：「今可因此相持鎗而迎。且作客人於地，卻說曹丕大王聞將荊州越中，甚當日逢金珠步矣。」眾位，如遲。同進攻，漸可輕之，又欲酌。徐晃，乃與夏侯張聲曰：「若死首大叫屈太守；其不手數，奪路總路大開肉取敗，截住了小船停喪，卻說：「某來劫上馬鄧芝問琰，轉出城池為太后何？」禕感瘴甚喜，懿聞知今奉帝柩於暗度，連夜歸降。當面頰。諸將謂伊籍也。維奮然背小徑分墨間，新野縣令當，正是魏延而逃命而去無可與陳登門旗幡數丈夫人有謀害說馬倒行間大將虛已畢。虞松賣耳。肅強梁州之勞仙機密書來人擊魏寨盡焚香木刻綵，由不仁，無物盡知昨日先取了雷，皆殄滅矣！」雲長又被吾與酒至綿，超閃出箭射身如此事，將曰：「吾身邊一將軍，分解其言，絕。卻是諸葛祭酒肉食，布曰：「老將軍士，面皮功，先行計』之，姦淫宮，立旌旗，鎮，按劍閣看。三四面令，無不動三年幼躁之，可當頭裹其時必領數十州求免死。授與同至，字曰：「吾乃大驅馳驅兵來張讓魏寨北地；卻門。帝之。吾當拱立幼好，何職？此耶？」說東一年紀皆帶五，未知都投筆於門上消動，自刎。郃與丁奉老生徒以人決一見書，伏地。」松當有帶弓弩。且容再救兵馬匹，城上車十里，欺我汲水旱，滅，肉，隨流涕泣謂孔明公方始知。」策也。孔明，犒三尺，無人稱奇，雍州大哭，捲八陣勢窮吾那時袁紹覽一人同曰：「汝等，進而無光祖居民，都披髮仗此賊，殺之，題反叛人坐下拜伏睹也。若以密書送滿寨；然投。其文若何足，各束手下之計。」紫鬚倒，是夜只恐孔明笑曰：「大怒耶！汝東風而來徐，遂不自懼怕南路徑面。張嶷四千軍帳。若不氣力？」曹操所領諾，眾皆言以待？」操屯大怒曰：「滿伯奢，上帳中王歸，將軍如何止。是我也！看，並無物，天道圖得聽信，門，寨。只見呂布告報之後主。」當作監令押車從頭大半晌而來，吏，分兵貴人縞素揮涕曰：「吾主曰：「汝以自有準備。張昭為武揚聲而心。曹軍至江東之？」又議能屈原來掠之恩，馬懿大事，以酒力，決，都，聽得出。」瑜擒矣。」邈兄長入庫內門樓，緣睚眥，大「我決意採其西川休寨。」紹之，忽階前進兵。」玄德曰：「上蜀兵百六萬，何人，傷。公至堂，非陳倉曰：當盡出，問其詐死，吾已滅吳國王何故使丈八宿。表，深保徐、汜、趙雲鳥雀宮多有吾母而抄其子，便賜之計而走路上有諍臣聞孔孟達。如鄧賢不差人叫喚蔡瑁曰：「元紹收復往來降，教我劫寨前去了。四五虎賁王見群為疑乎墜下馬，被武士看下山坡來迎接著矣。」郃只待至帳上。劉辟，瑁曰：「公儀羞見四面以天命。仰面目一軍之事不鳴鑼鼓，遂斬於右，是：長江東南迤邐追至橋之事。引軍飛在此告司馬千兵，甚厚待捉對曰：「汝若不成。」須驚訝曰：「吾葬之奈國家盡是夜二人乃保此馬引軍，即命賈充，不辨虛則難以沃野，不退，只問疾回寨中矣。今不可遣人墮地告曰：「公首級來。嘗少，便下手下，操待人之。宴款。時，不打。平定者誤被誅之。曹操破城，說，引百校尉袁紹先阻。當為使關，此，丞相，使人回調關，欲反掌州越？」商議曰：「自將馬超從其亡，恰好馬逃生鱗甲，平；一洩漏。魏將往山遍，邊一事？」張南也，言，提兵來到柴桑界，鄧賢弟別。吾叔何？」眾心甲而嘶，軍隨軍去廝殺出；二百餘文，與慈仁敗，又奏曰：「吾聞「此得明。玄德青州既是許昌囚在垓心，陣主赴關，周瑜怒恨，將軍以保？」光耀提大驚而言割據荊州來我同敗軍兵救護心。」統卻暗思此與眾商議。累立於南北原來。」孫權大驚，以長問曰：「今戰，奪城外者擇日已至。使君位是昆之，亂箭射去，黃忠只言，列侯霸。此重二千人往視之？」節、簡雍之行參，貂蟬出舊恩，莫非順。如魏延造反。」暹非為首級獻帝冑隨崔諒依，否？安知是迎之言軍民被那時在草，令。卻說劉玄德大叫，泉。玄德告穹蒼頭盔、孫權曰：「子有法正是孫權僭用。曹洪願借荊州，王平在西川五千人耳，急發。曹真，稱之大義之聲大寨便斟酌古之恩，還；今早有勇翻齎書「誰來探馬，引得城十數騎官渡河崔烈，會也。姜維曰：「誰不肯捨命雅丹，皆被曹操，蠻王惇交戰，自收兵齊出，先主意，以為首尾用。髦先自交割目視之，欲取洮西北征西涼兵常盛在嗟歎曰：「公真虎歸寨形。關殺奔回吳皆爽。」於地，安敢正少兵。卻見，打關公若飛在武士秦用何不如草放火之上，明曰：「若再聚鐵桶。張苞兩軍虎痴」懿下邳來司馬遵用奇兵望湖，糧，說操之意。」遂得桐木勞而造『有犬馬，不動。如本無虞為已皆死節。」師決死，轅門旗鼓，棄彼首，正是蜀之。闓如探之眾，留蔣幹勉強飲一輛，況主自就所不急去，夜行。縱然死。周瑜、談論。蜀若不可依軍，哭曰：「若見袁尚在東吳侯淵斬。」玄德聞令鄭、蒯英雄，瞻辭出此事。侍奏丞相探知多言未畢，遂留此計策？」孫權困，方甦。汝再三世，斷後園看看關公試教馬岱分，乃重，曰：「吾向荊州，一分別，天氣未及，先主公正在城。四子熙、張飛離大喜，駕再往見馬可用拖出，堆滿伯道而行，領振軍如此物大車駕幸得也。退入重頤大驚殺入城守將城。松曰：「汝無雙守事，故有異。」昱曰：「特說蜀耶？」尚有厚；由黃權問以啟奏聞主公既降者，不然自引本初四子違令來到關公引兵，喚城，謹書付曰：「孔融曰「昔微以瓦礫之力勸。」眾官鎧，至，西大叫門生死。引軍出征西方二洞府，人送一面頰。孔明親兄弟如此賊黨並起程銀一家傳諭曰：「公今夜，只以琰，特來書。備使吾命世之，餘里，安。喬夫人不及軍出馬，次，教我等候。肅回。但見進至，以料乎？」遼曰：「吾受困，欲何？」探我前船無馬，允歸館舍。主公曰：「曹操；目處，自以艾曰：「子耶！汝情由此間不有一賊！」魏兵。」於馬良求雨。不勝去。黃忠所乘馬，正言，詐耳。天，何故如？」師見陣門受禪，不理難，乃當為首，便請得性命將軍割。<EOS>\n"
          ]
        }
      ],
      "source": [
        "import random\n",
        "\n",
        "generate = str()\n",
        "curr_ch = \"<BOS>\"\n",
        "while curr_ch != \"<EOS>\":\n",
        "    generate += curr_ch\n",
        "    prob = bigram[curr_ch]\n",
        "    elements = [k for k in prob]\n",
        "    weights = [prob[k] for k in prob]\n",
        "    curr_ch = random.choices(elements, weights=weights, k=1)[0]\n",
        "print(generate + curr_ch)"
      ]
    },
    {
      "cell_type": "markdown",
      "metadata": {
        "id": "8ISS1PO2qlnK"
      },
      "source": [
        "## 觀察\n",
        "\n",
        "雖然生成的文字乍看之下好像有那麼一回事，但其實稍微看一下就會發現很多問題：\n",
        "\n",
        "1. 文本的內容根本不成章法。\n",
        "2. 上下括號並不成對\n",
        "3. 若有多試幾次就會發現，`<BOS>` 後面接的必定是「第」。\n",
        "\n",
        "我將其中一段生成的文字送入 [ChatGPT](https://chat.openai.com/share/331f901b-8e04-4c1f-93b6-42d7b24d407d) 請他解釋，他還真的開始跟我這個胡亂生成的文本一搭一唱起來。"
      ]
    }
  ],
  "metadata": {
    "colab": {
      "provenance": []
    },
    "kernelspec": {
      "display_name": "Python 3",
      "name": "python3"
    },
    "language_info": {
      "codemirror_mode": {
        "name": "ipython",
        "version": 3
      },
      "file_extension": ".py",
      "mimetype": "text/x-python",
      "name": "python",
      "nbconvert_exporter": "python",
      "pygments_lexer": "ipython3",
      "version": "3.11.9"
    }
  },
  "nbformat": 4,
  "nbformat_minor": 0
}

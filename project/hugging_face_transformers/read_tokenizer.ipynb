{
 "cells": [
  {
   "cell_type": "markdown",
   "metadata": {},
   "source": [
    "### 讀取分詞器\n",
    "與模型讀取方式類似，通常 Tokenizer 會跟模型權重的專案放在一起，所以直接用相同的命名空間下載即可。"
   ]
  },
  {
   "cell_type": "markdown",
   "metadata": {},
   "source": [
    "* 如果出現以下錯誤，請將遺漏的模組進行安裝：\n",
    "```\n",
    "ImportError: \n",
    " requires the protobuf library but it was not found in your environment. Checkout the instructions on the\n",
    "installation page of its repo: https://github.com/protocolbuffers/protobuf/tree/master/python#installation and follow the ones\n",
    "that match your environment. Please note that you may need to restart your runtime after installation.\n",
    "```"
   ]
  },
  {
   "cell_type": "code",
   "execution_count": 3,
   "metadata": {},
   "outputs": [
    {
     "name": "stdout",
     "output_type": "stream",
     "text": [
      "Channels:\n",
      " - defaults\n",
      "Platform: linux-64\n",
      "Collecting package metadata (repodata.json): ...working... done\n",
      "Solving environment: ...working... done\n"
     ]
    },
    {
     "name": "stderr",
     "output_type": "stream",
     "text": [
      "\n",
      "\n",
      "==> WARNING: A newer version of conda exists. <==\n",
      "    current version: 25.1.1\n",
      "    latest version: 25.3.1\n",
      "\n",
      "Please update conda by running\n",
      "\n",
      "    $ conda update -n base -c defaults conda\n",
      "\n",
      "\n"
     ]
    },
    {
     "name": "stdout",
     "output_type": "stream",
     "text": [
      "\n",
      "## Package Plan ##\n",
      "\n",
      "  environment location: /home/ai-x/miniconda3/envs/ann_py311\n",
      "\n",
      "  added / updated specs:\n",
      "    - protobuf\n",
      "\n",
      "\n",
      "The following packages will be downloaded:\n",
      "\n",
      "    package                    |            build\n",
      "    ---------------------------|-----------------\n",
      "    libabseil-20250127.0       | cxx17_h6a678d5_0         1.3 MB\n",
      "    protobuf-5.29.3            |  py311he621ea3_0         647 KB\n",
      "    ------------------------------------------------------------\n",
      "                                           Total:         1.9 MB\n",
      "\n",
      "The following NEW packages will be INSTALLED:\n",
      "\n",
      "  libabseil          pkgs/main/linux-64::libabseil-20250127.0-cxx17_h6a678d5_0 \n",
      "  protobuf           pkgs/main/linux-64::protobuf-5.29.3-py311he621ea3_0 \n",
      "\n",
      "\n",
      "Proceed ([y]/n)? \n",
      "\n",
      "libabseil-20250127.0 | 1.3 MB    |            |   0% \n",
      "libabseil-20250127.0 | 1.3 MB    | ########## | 100% \u001b[A | 100% \n",
      "protobuf-5.29.3      | 647 KB    | 2          |   2% \u001b[A\n",
      "protobuf-5.29.3      | 647 KB    | 7          |   7% \u001b[A\n",
      "protobuf-5.29.3      | 647 KB    | #4         |  15% \u001b[A\n",
      "protobuf-5.29.3      | 647 KB    | ##9        |  30% \u001b[A\n",
      "protobuf-5.29.3      | 647 KB    | ####9      |  49% \u001b[A\n",
      "protobuf-5.29.3      | 647 KB    | #######6   |  77% \u001b[A\n",
      "protobuf-5.29.3      | 647 KB    | ########## | 100% \u001b[A\n",
      "                                                     \u001b[A\n",
      "                                                     \u001b[A done\n",
      "Preparing transaction: done\n",
      "Verifying transaction: done\n",
      "Executing transaction: done\n"
     ]
    }
   ],
   "source": [
    "%%bash\n",
    "conda install protobuf"
   ]
  },
  {
   "cell_type": "code",
   "execution_count": 5,
   "metadata": {},
   "outputs": [],
   "source": [
    "from transformers import LlamaTokenizer as TkCls\n",
    "\n",
    "model_path = \"TheBloke/Llama-2-7b-chat-fp16\"\n",
    "\n",
    "tk: TkCls = TkCls.from_pretrained(model_path)"
   ]
  }
 ],
 "metadata": {
  "kernelspec": {
   "display_name": "ann_py311",
   "language": "python",
   "name": "python3"
  },
  "language_info": {
   "codemirror_mode": {
    "name": "ipython",
    "version": 3
   },
   "file_extension": ".py",
   "mimetype": "text/x-python",
   "name": "python",
   "nbconvert_exporter": "python",
   "pygments_lexer": "ipython3",
   "version": "3.11.11"
  },
  "orig_nbformat": 4
 },
 "nbformat": 4,
 "nbformat_minor": 2
}

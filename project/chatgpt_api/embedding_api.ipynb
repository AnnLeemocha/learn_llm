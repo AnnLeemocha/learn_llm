{
 "cells": [
  {
   "cell_type": "markdown",
   "metadata": {},
   "source": [
    "## ChatGPT API - 文字向量 (Embedding) API"
   ]
  },
  {
   "cell_type": "markdown",
   "metadata": {},
   "source": [
    "### 文字向量 (Embedding)\n",
    "* [text-embedding-3-small](https://platform.openai.com/docs/guides/embeddings/embedding-models) 這個模型最大輸入長度可以達到 8192 個 Tokens，每個向量的維度是 1536 維。"
   ]
  },
  {
   "cell_type": "code",
   "execution_count": null,
   "metadata": {},
   "outputs": [],
   "source": [
    "import openai\n",
    "from dotenv import load_dotenv\n",
    "\n",
    "load_dotenv()  # .env\n",
    " \n",
    "response = openai.embeddings.create(\n",
    "    model=\"text-embedding-3-small\",\n",
    "    input=[\"貓\", \"狗\", \"cat\", \"dog\"],\n",
    ")\n",
    "\n",
    "for emb in response[\"data\"]:\n",
    "    embeddings = emb[\"embedding\"]\n",
    "    print(len(embeddings), embeddings)\n",
    "\n",
    "\"\"\"\n",
    "輸出結果：\n",
    "1536 [-0.009648507460951805, -0.008709395304322243, 0.0031512430869042873, -0.029856810346245766]\n",
    "1536 [-0.010666832327842712, -0.020034153014421463, -0.008433295413851738, -0.02460951916873455]\n",
    "1536 [-0.0070539116859436035, -0.01734057068824768, -0.009698242880403996, -0.03073945827782154]\n",
    "1536 [-0.003476932644844055, -0.01781758852303028, -0.01627529226243496, -0.017506422474980354]\n",
    "\"\"\""
   ]
  },
  {
   "cell_type": "markdown",
   "metadata": {},
   "source": [
    "### 常見用法 - 比對文本之間的相似度\n",
    "因為我們是計算歐式距離的關係，所以數字越小代表越相近，也可以換成 [餘弦相似度 (Cosine Similarity)](https://w.wiki/neY) 或 [向量內積](https://w.wiki/A3Jz) 之類的評估公式。\n",
    "* Embedding 不僅能用來比較文本之間的相似度，也具有跨語言的能力，在未來提到 Retrieval-Based 應用時會相當重要。"
   ]
  },
  {
   "cell_type": "code",
   "execution_count": null,
   "metadata": {},
   "outputs": [],
   "source": [
    "import openai\n",
    "import numpy as np\n",
    "from sklearn.metrics.pairwise import euclidean_distances\n",
    "from dotenv import load_dotenv\n",
    "\n",
    "load_dotenv()  # .env\n",
    "\n",
    "# 避免以科學記號輸出\n",
    "np.set_printoptions(suppress=True, precision=4)\n",
    "\n",
    "text = [\"我喜歡貓咪\", \"i like cats\", \"來去看電影\", \"watch a movie\"]\n",
    "resp = openai.embeddings.create(\n",
    "    input=text, \n",
    "    model=\"text-embedding-3-small\"\n",
    ")\n",
    "embs = [emb.embedding for emb in resp.data]\n",
    "\n",
    "print(euclidean_distances(embs, embs))\n",
    "# \"\"\"\n",
    "# [[0.      0.98    1.20    1.32]\n",
    "#  [0.98    0.      1.33    1.26]\n",
    "#  [1.20    1.33    0.      0.93]\n",
    "#  [1.32    1.26    0.93    0.  ]]\n",
    "# \"\"\"\n",
    "\n",
    "query =  [\"我喜歡貓咪\", \"i like cats\", \"來去看電影\", \"watch a movie\", \"猫が好き\", \"映画を見に来てください\"]\n",
    "response = openai.embeddings.create(\n",
    "    input=query, \n",
    "    model=\"text-embedding-3-small\"\n",
    ")\n",
    "\n",
    "print(text)\n",
    "for i, item in enumerate(response[\"data\"]):\n",
    "    embeddings = item[\"embedding\"]\n",
    "    print(euclidean_distances([embeddings], embs)[0], query[i])\n",
    "\n",
    "# \"\"\"\n",
    "# 稍微經過人工排版的輸出結果：\n",
    "\n",
    "# [\"我喜歡貓咪\", \"i like cats\", \"來去看電影\", \"watch a movie\"]\n",
    "# [  0.49925489    0.72721379] i like cats\n",
    "# [  0.77279439    0.54520915] watch a movie\n",
    "# [  0.50884729    0.68798437] 猫が好き\n",
    "# [  0.72506646    0.50975780] 映画を見に来てください\n",
    "# \"\"\""
   ]
  }
 ],
 "metadata": {
  "kernelspec": {
   "display_name": "venv",
   "language": "python",
   "name": "python3"
  },
  "language_info": {
   "codemirror_mode": {
    "name": "ipython",
    "version": 3
   },
   "file_extension": ".py",
   "mimetype": "text/x-python",
   "name": "python",
   "nbconvert_exporter": "python",
   "pygments_lexer": "ipython3",
   "version": "3.11.9"
  },
  "orig_nbformat": 4
 },
 "nbformat": 4,
 "nbformat_minor": 2
}

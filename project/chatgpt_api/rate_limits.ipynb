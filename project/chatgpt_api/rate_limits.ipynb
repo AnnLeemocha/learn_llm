{
 "cells": [
  {
   "cell_type": "markdown",
   "metadata": {},
   "source": [
    "## ChatGPT API - Rate Limits"
   ]
  },
  {
   "cell_type": "markdown",
   "metadata": {},
   "source": [
    "### Rate Limits\n",
    "為了展示這個速率限制，筆者自掏腰包，以 0.0004 鎂（約新台幣 0.012 塊錢）的代價，以 Embedding API 的 3500 RPM 為例，測試了一分鐘內發四千個 Embedding API 的 Requests \n",
    "* **!! 注意 !! 請不要輕易嘗試以上程式碼，可能會造成不可預期的開銷。**保險起見將註解掉程式碼。\n",
    "* 會不斷拋出 `Error: Rate limit reached for ...` 的錯誤訊息，此 Exception 類別為 `openai.error.RateLimitError`。\n",
    "* 以下作法僅供參考，也可以使用其他有 retry 功能的套件來處理，這部份可以參考[官方文件](https://platform.openai.com/docs/guides/rate-limits/error-mitigation)的推薦。"
   ]
  },
  {
   "cell_type": "code",
   "execution_count": null,
   "metadata": {},
   "outputs": [],
   "source": [
    "# import time\n",
    "# from concurrent.futures import ThreadPoolExecutor\n",
    "# from threading import Lock\n",
    "\n",
    "# import openai\n",
    "# from openai.error import RateLimitError\n",
    "# from dotenv import load_dotenv\n",
    "\n",
    "# load_dotenv()  # .env\n",
    "\n",
    "# results = dict()\n",
    "# lock = Lock()\n",
    "\n",
    "# def create_request(thread_id):\n",
    "#     print(f\"Thread {thread_id} Begin\")\n",
    "#     while True:\n",
    "#         try:\n",
    "#             response = openai.Embedding.create(\n",
    "#                 model=\"text-embedding-ada-002\",\n",
    "#                 input=[\"0\"],\n",
    "#             )\n",
    "#             break\n",
    "#         except RateLimitError as e:\n",
    "#             print(f\"Rate Limit Error! Wait For 5 Seconds ...\")\n",
    "#             time.sleep(5)\n",
    "\n",
    "#     with lock:\n",
    "#         results[thread_id] = response\n",
    "#         current_length = len(results)\n",
    "#     print(f\"Thread {thread_id} Done {current_length}\")\n",
    "\n",
    "\n",
    "# 為了避免有人直接拿來跑，請自行將數字改成 4000 做測試\n",
    "# thread_ids = range(4000)  \n",
    "# # thread_ids = range(1)  \n",
    "\n",
    "# with ThreadPoolExecutor(max_workers=128) as executor:\n",
    "#     executor.map(create_request, thread_ids)"
   ]
  }
 ],
 "metadata": {
  "kernelspec": {
   "display_name": "venv",
   "language": "python",
   "name": "python3"
  },
  "language_info": {
   "codemirror_mode": {
    "name": "ipython",
    "version": 3
   },
   "file_extension": ".py",
   "mimetype": "text/x-python",
   "name": "python",
   "nbconvert_exporter": "python",
   "pygments_lexer": "ipython3",
   "version": "3.11.9"
  },
  "orig_nbformat": 4
 },
 "nbformat": 4,
 "nbformat_minor": 2
}

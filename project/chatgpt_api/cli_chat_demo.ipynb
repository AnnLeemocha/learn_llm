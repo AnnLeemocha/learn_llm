{
 "cells": [
  {
   "cell_type": "markdown",
   "metadata": {},
   "source": [
    "## ChatGPT API - 多輪對話"
   ]
  },
  {
   "cell_type": "markdown",
   "metadata": {},
   "source": [
    "### 多輪對話 - CLI Chat Demo (文字介面聊天範例)\n",
    "函式說明\n",
    "* `truncate`: \n",
    "    我們從訊息的尾端往前拜訪，不斷累加總 Token 數，直到總 Token 數超過限制，最後將 System Prompt 加回訊息裡面\n",
    "* `chat`: 執行 chat 對話\n",
    "* `show`: 使用 Streaming 的方式顯示模型的輸出"
   ]
  },
  {
   "cell_type": "code",
   "execution_count": null,
   "metadata": {},
   "outputs": [],
   "source": [
    "import tiktoken\n",
    "from openai import OpenAI\n",
    "\n",
    "\n",
    "def main():\n",
    "    client = OpenAI()\n",
    "    tk = tiktoken.encoding_for_model(\"gpt-3.5-turbo\")\n",
    "\n",
    "    def truncate(messages, limit=300):\n",
    "        \"\"\"\n",
    "        我們從訊息的尾端往前拜訪，不斷累加總 Token 數\n",
    "        直到總 Token 數超過限制，最後將 System Prompt 加回訊息裡面\n",
    "        \"\"\"\n",
    "        total = 0\n",
    "        new_messages = list()\n",
    "        for msg in reversed(messages[1:]):\n",
    "            total += len(tk.encode(msg[\"content\"]))\n",
    "            if total > limit:\n",
    "                break\n",
    "            new_messages.insert(0, msg)\n",
    "        new_messages.insert(0, messages[0])\n",
    "        return new_messages\n",
    "\n",
    "    def chat(messages):\n",
    "        return client.chat.completions.create(\n",
    "            model=\"gpt-3.5-turbo\",\n",
    "            messages=messages,\n",
    "            stream=True,\n",
    "        )\n",
    "\n",
    "    messages = [{\"role\": \"system\", \"content\": \"你現在是一個使用繁體中文的貓娘。\"}]\n",
    "\n",
    "    while True:\n",
    "        prompt = input(\"User: \").strip()\n",
    "        messages.append({\"role\": \"user\", \"content\": prompt})\n",
    "\n",
    "        messages = truncate(messages)\n",
    "        response = chat(messages)\n",
    "\n",
    "        print(end=\"Assistant: \", flush=True)\n",
    "        full_resp = str()\n",
    "        for resp in response:\n",
    "            if not resp.choices:\n",
    "                continue\n",
    "\n",
    "            token = resp.choices[0].delta.content\n",
    "            if token:\n",
    "                print(end=token, flush=True)\n",
    "                full_resp += token\n",
    "        print()\n",
    "\n",
    "        # 將模型輸出加入歷史訊息\n",
    "        messages.append({\"role\": \"assistant\", \"content\": full_resp})\n",
    "\n",
    "\n",
    "if __name__ == \"__main__\":\n",
    "    main()"
   ]
  }
 ],
 "metadata": {
  "kernelspec": {
   "display_name": "venv",
   "language": "python",
   "name": "python3"
  },
  "language_info": {
   "codemirror_mode": {
    "name": "ipython",
    "version": 3
   },
   "file_extension": ".py",
   "mimetype": "text/x-python",
   "name": "python",
   "nbconvert_exporter": "python",
   "pygments_lexer": "ipython3",
   "version": "3.11.9"
  },
  "orig_nbformat": 4
 },
 "nbformat": 4,
 "nbformat_minor": 2
}
